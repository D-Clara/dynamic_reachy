{
 "cells": [
  {
   "cell_type": "code",
   "execution_count": null,
   "id": "98f7924d",
   "metadata": {},
   "outputs": [],
   "source": [
    "import numpy as np\n",
    "\n",
    "from reachy_sdk import ReachySDK\n",
    "\n",
    "from reachy_sdk.trajectory import goto\n",
    "from reachy_sdk.trajectory.interpolation import InterpolationMode"
   ]
  },
  {
   "attachments": {},
   "cell_type": "markdown",
   "id": "880ed0ed",
   "metadata": {},
   "source": []
  },
  {
   "cell_type": "code",
   "execution_count": 10,
   "id": "8c06d8d2",
   "metadata": {},
   "outputs": [],
   "source": [
    "reachy = ReachySDK('localhost')"
   ]
  },
  {
   "cell_type": "markdown",
   "id": "d6fdff57",
   "metadata": {},
   "source": [
    "Check if all the joints seem to be detected."
   ]
  },
  {
   "cell_type": "code",
   "execution_count": 11,
   "id": "d4944d7b",
   "metadata": {},
   "outputs": [
    {
     "data": {
      "text/plain": [
       "<Reachy host=\"localhost\" joints=\n",
       "\t<Joint name=\"l_shoulder_pitch\" pos=\"-6.13\" mode=\"compliant\">\n",
       "\t<Joint name=\"l_shoulder_roll\" pos=\"2.17\" mode=\"compliant\">\n",
       "\t<Joint name=\"l_arm_yaw\" pos=\"-22.11\" mode=\"compliant\">\n",
       "\t<Joint name=\"l_elbow_pitch\" pos=\"-55.69\" mode=\"compliant\">\n",
       "\t<Joint name=\"l_forearm_yaw\" pos=\"-13.05\" mode=\"compliant\">\n",
       "\t<Joint name=\"l_wrist_pitch\" pos=\"-30.90\" mode=\"compliant\">\n",
       "\t<Joint name=\"l_wrist_roll\" pos=\"1.61\" mode=\"compliant\">\n",
       "\t<Joint name=\"l_gripper\" pos=\"-17.82\" mode=\"compliant\">\n",
       "\t<Joint name=\"r_shoulder_pitch\" pos=\"0.64\" mode=\"compliant\">\n",
       "\t<Joint name=\"r_shoulder_roll\" pos=\"3.98\" mode=\"compliant\">\n",
       "\t<Joint name=\"r_arm_yaw\" pos=\"17.80\" mode=\"compliant\">\n",
       "\t<Joint name=\"r_elbow_pitch\" pos=\"-58.24\" mode=\"compliant\">\n",
       "\t<Joint name=\"r_forearm_yaw\" pos=\"13.05\" mode=\"compliant\">\n",
       "\t<Joint name=\"r_wrist_pitch\" pos=\"-32.75\" mode=\"compliant\">\n",
       "\t<Joint name=\"r_wrist_roll\" pos=\"-10.12\" mode=\"compliant\">\n",
       "\t<Joint name=\"r_gripper\" pos=\"17.82\" mode=\"compliant\">\n",
       "\t<Joint name=\"l_antenna\" pos=\"-0.15\" mode=\"compliant\">\n",
       "\t<Joint name=\"r_antenna\" pos=\"0.15\" mode=\"compliant\">\n",
       "\t<Joint name=\"neck_roll\" pos=\"-39.92\" mode=\"compliant\">\n",
       "\t<Joint name=\"neck_pitch\" pos=\"2.58\" mode=\"compliant\">\n",
       "\t<Joint name=\"neck_yaw\" pos=\"-20.05\" mode=\"compliant\">\n",
       ">"
      ]
     },
     "execution_count": 11,
     "metadata": {},
     "output_type": "execute_result"
    }
   ],
   "source": [
    "reachy"
   ]
  },
  {
   "cell_type": "code",
   "execution_count": 14,
   "id": "14dd87ae",
   "metadata": {},
   "outputs": [
    {
     "name": "stdout",
     "output_type": "stream",
     "text": [
      "Joint \"l_shoulder_pitch\" position is -1.3 degree.\n",
      "Joint \"l_shoulder_roll\" position is 0.94 degree.\n",
      "Joint \"l_arm_yaw\" position is -7.25 degree.\n",
      "Joint \"l_elbow_pitch\" position is -3.91 degree.\n",
      "Joint \"l_forearm_yaw\" position is 150.0 degree.\n",
      "Joint \"l_wrist_pitch\" position is 180.0 degree.\n",
      "Joint \"l_wrist_roll\" position is 150.0 degree.\n",
      "Joint \"l_gripper\" position is 23.83 degree.\n",
      "Joint \"l_antenna\" position is -0.15 degree.\n",
      "Joint \"r_antenna\" position is 5.72 degree.\n",
      "Joint \"neck_disk_top\" position is -86.44 degree.\n",
      "Joint \"neck_disk_middle\" position is -70.58 degree.\n",
      "Joint \"neck_disk_bottom\" position is -63.28 degree.\n",
      "dict_items([('l_shoulder_pitch', <Joint name=\"l_shoulder_pitch\" pos=\"-1.30\" mode=\"stiff\">), ('l_shoulder_roll', <Joint name=\"l_shoulder_roll\" pos=\"0.94\" mode=\"compliant\">), ('l_arm_yaw', <Joint name=\"l_arm_yaw\" pos=\"-7.25\" mode=\"compliant\">), ('l_elbow_pitch', <Joint name=\"l_elbow_pitch\" pos=\"-3.91\" mode=\"compliant\">), ('l_forearm_yaw', <Joint name=\"l_forearm_yaw\" pos=\"150.00\" mode=\"compliant\">), ('l_wrist_pitch', <Joint name=\"l_wrist_pitch\" pos=\"180.00\" mode=\"compliant\">), ('l_wrist_roll', <Joint name=\"l_wrist_roll\" pos=\"150.00\" mode=\"compliant\">), ('l_gripper', <Joint name=\"l_gripper\" pos=\"23.83\" mode=\"compliant\">), ('l_antenna', <Joint name=\"l_antenna\" pos=\"-0.15\" mode=\"compliant\">), ('r_antenna', <Joint name=\"r_antenna\" pos=\"5.72\" mode=\"compliant\">), ('neck_disk_top', <Joint name=\"neck_disk_top\" pos=\"-86.44\" mode=\"compliant\">), ('neck_disk_middle', <Joint name=\"neck_disk_middle\" pos=\"-70.58\" mode=\"compliant\">), ('neck_disk_bottom', <Joint name=\"neck_disk_bottom\" pos=\"-63.28\" mode=\"compliant\">)])\n"
     ]
    }
   ],
   "source": [
    "#print(reachy.joints.items()[name])\n",
    "for name, joint in reachy.joints.items():\n",
    "    print(f'Joint \"{name}\" position is {joint.present_position} degree.')\n",
    "\n",
    "print(reachy.joints.items())\n",
    "right_angled_position = {\n",
    "    reachy.l_arm.l_shoulder_pitch: -1.30,\n",
    "    reachy.l_arm.l_shoulder_roll: 0.94,\n",
    "    reachy.l_arm.l_arm_yaw: -7.25,\n",
    "    reachy.l_arm.l_elbow_pitch: -3.91,\n",
    "    reachy.l_arm.l_forearm_yaw: 150,\n",
    "    reachy.l_arm.l_wrist_pitch: 180,\n",
    "    reachy.l_arm.l_wrist_roll: 150,\n",
    "}"
   ]
  },
  {
   "cell_type": "markdown",
   "id": "64d6c7d3",
   "metadata": {},
   "source": [
    "## Checking compliance"
   ]
  },
  {
   "cell_type": "code",
   "execution_count": 8,
   "id": "8d6f8d03",
   "metadata": {},
   "outputs": [
    {
     "name": "stderr",
     "output_type": "stream",
     "text": [
      "Exception in thread Thread-7:\n",
      "Traceback (most recent call last):\n",
      "  File \"/usr/lib/python3.8/threading.py\", line 932, in _bootstrap_inner\n",
      "    self.run()\n",
      "  File \"/usr/lib/python3.8/threading.py\", line 870, in run\n",
      "    self._target(*self._args, **self._kwargs)\n",
      "  File \"/home/reachy/dev/reachy-sdk/reachy_sdk/reachy_sdk.py\", line 203, in _start_sync_in_bg\n",
      "    loop.run_until_complete(self._sync_loop())\n",
      "  File \"/usr/lib/python3.8/asyncio/base_events.py\", line 616, in run_until_complete\n",
      "    return future.result()\n",
      "  File \"/home/reachy/dev/reachy-sdk/reachy_sdk/reachy_sdk.py\", line 258, in _sync_loop\n",
      "    await asyncio.gather(\n",
      "  File \"/home/reachy/dev/reachy-sdk/reachy_sdk/reachy_sdk.py\", line 213, in _get_stream_update_loop\n",
      "    async for state_update in joint_stub.StreamJointsState(stream_req):\n",
      "  File \"/home/reachy/.local/lib/python3.8/site-packages/grpc/aio/_call.py\", line 326, in _fetch_stream_responses\n",
      "    await self._raise_for_status()\n",
      "  File \"/home/reachy/.local/lib/python3.8/site-packages/grpc/aio/_call.py\", line 236, in _raise_for_status\n",
      "    raise _create_rpc_error(await self.initial_metadata(), await\n",
      "grpc.aio._call.AioRpcError: <AioRpcError of RPC that terminated with:\n",
      "\tstatus = StatusCode.UNAVAILABLE\n",
      "\tdetails = \"Socket closed\"\n",
      "\tdebug_error_string = \"{\"created\":\"@1673598911.235537971\",\"description\":\"Error received from peer ipv6:[::1]:50055\",\"file\":\"src/core/lib/surface/call.cc\",\"file_line\":1074,\"grpc_message\":\"Socket closed\",\"grpc_status\":14}\"\n",
      ">\n"
     ]
    }
   ],
   "source": [
    "reachy.turn_on('reachy')"
   ]
  },
  {
   "cell_type": "code",
   "execution_count": 5,
   "id": "4bdcb7a1",
   "metadata": {},
   "outputs": [],
   "source": [
    "reachy.turn_off('reachy')"
   ]
  },
  {
   "cell_type": "markdown",
   "id": "f7850583",
   "metadata": {},
   "source": [
    "Lift both arms, put them in stiff mode and check if *turn_off_smoothly* works."
   ]
  },
  {
   "cell_type": "code",
   "execution_count": 15,
   "id": "eaff4dd0",
   "metadata": {},
   "outputs": [],
   "source": [
    "reachy.turn_on('reachy')"
   ]
  },
  {
   "cell_type": "code",
   "execution_count": 15,
   "id": "899c2885",
   "metadata": {},
   "outputs": [],
   "source": [
    "reachy.turn_off_smoothly('reachy')"
   ]
  },
  {
   "cell_type": "markdown",
   "id": "80533710",
   "metadata": {},
   "source": [
    "## Moving the arms"
   ]
  },
  {
   "cell_type": "markdown",
   "id": "1387c8ff",
   "metadata": {},
   "source": [
    "Put each arm at 90 degrees."
   ]
  },
  {
   "cell_type": "code",
   "execution_count": 6,
   "id": "caf45293",
   "metadata": {},
   "outputs": [],
   "source": [
    "try:\n",
    "    right_angled_position_right = {\n",
    "    reachy.r_arm.r_shoulder_pitch: 0,\n",
    "    reachy.r_arm.r_shoulder_roll: 0,\n",
    "    reachy.r_arm.r_arm_yaw: 0,\n",
    "    reachy.r_arm.r_elbow_pitch: -90,\n",
    "    reachy.r_arm.r_forearm_yaw: 0,\n",
    "    reachy.r_arm.r_wrist_pitch: 0,\n",
    "    reachy.r_arm.r_wrist_roll: 0,\n",
    "}\n",
    "except AttributeError:\n",
    "    pass\n",
    "\n",
    "try:\n",
    "    right_angled_position_left = {\n",
    "        reachy.l_arm.l_shoulder_pitch: 0,\n",
    "        reachy.l_arm.l_shoulder_roll: 0,\n",
    "        reachy.l_arm.l_arm_yaw: 0,\n",
    "        reachy.l_arm.l_elbow_pitch: -90,\n",
    "        reachy.l_arm.l_forearm_yaw: 0,\n",
    "        reachy.l_arm.l_wrist_pitch: 0,\n",
    "        reachy.l_arm.l_wrist_roll: 0,\n",
    "    }\n",
    "except AttributeError:\n",
    "    pass"
   ]
  },
  {
   "cell_type": "code",
   "execution_count": 10,
   "id": "36320685",
   "metadata": {},
   "outputs": [],
   "source": [
    "reachy.turn_on('reachy')"
   ]
  },
  {
   "cell_type": "code",
   "execution_count": 7,
   "id": "673f3ca9",
   "metadata": {},
   "outputs": [],
   "source": [
    "goto(\n",
    "        goal_positions=right_angled_position_right,\n",
    "        duration=1.0,\n",
    "        interpolation_mode=InterpolationMode.MINIMUM_JERK)"
   ]
  },
  {
   "cell_type": "code",
   "execution_count": 8,
   "id": "466fd6c0",
   "metadata": {},
   "outputs": [],
   "source": [
    "reachy.turn_off_smoothly('reachy')"
   ]
  },
  {
   "cell_type": "code",
   "execution_count": 16,
   "id": "10a21a8b",
   "metadata": {},
   "outputs": [],
   "source": [
    "try:\n",
    "    goto(\n",
    "        goal_positions=right_angled_position_right,\n",
    "        duration=1.0,\n",
    "        interpolation_mode=InterpolationMode.MINIMUM_JERK\n",
    "    )\n",
    "except NameError:\n",
    "    print('Reachy has no right arm!')"
   ]
  },
  {
   "cell_type": "code",
   "execution_count": 20,
   "id": "67e0938d",
   "metadata": {},
   "outputs": [],
   "source": [
    "try:\n",
    "    goto(\n",
    "        goal_positions=right_angled_position_left,\n",
    "        duration=1.0,\n",
    "        interpolation_mode=InterpolationMode.MINIMUM_JERK\n",
    "    )\n",
    "except NameError:\n",
    "    print('Reachy has no left arm!')"
   ]
  },
  {
   "cell_type": "code",
   "execution_count": 8,
   "id": "8250041f",
   "metadata": {},
   "outputs": [],
   "source": [
    "reachy.turn_off_smoothly('reachy')"
   ]
  },
  {
   "cell_type": "markdown",
   "id": "2457b9a2",
   "metadata": {},
   "source": [
    "Reproduce the square movement from [the documentation](https://pollen-robotics.github.io/reachy-2021-docs/sdk/first-moves/kinematics/#inverse-kinematics), to check if this Reachy can reproduce it."
   ]
  },
  {
   "cell_type": "markdown",
   "id": "c9c295c3",
   "metadata": {},
   "source": [
    "For the right arm:"
   ]
  },
  {
   "cell_type": "code",
   "execution_count": 12,
   "id": "c6802a17",
   "metadata": {},
   "outputs": [],
   "source": [
    "A = np.array([\n",
    "  [0, 0, -1, 0.3],\n",
    "  [0, 1, 0, -0.4],  \n",
    "  [1, 0, 0, -0.3],\n",
    "  [0, 0, 0, 1],  \n",
    "])\n",
    "\n",
    "B = np.array([\n",
    "  [0, 0, -1, 0.3],\n",
    "  [0, 1, 0, -0.4],  \n",
    "  [1, 0, 0, 0.0],\n",
    "  [0, 0, 0, 1],  \n",
    "])\n",
    "\n",
    "C = np.array([\n",
    "  [0, 0, -1, 0.3],\n",
    "  [0, 1, 0, -0.1],  \n",
    "  [1, 0, 0, 0.0],\n",
    "  [0, 0, 0, 1],  \n",
    "])\n",
    "\n",
    "D = np.array([\n",
    "  [0, 0, -1, 0.3],\n",
    "  [0, 1, 0, -0.1],  \n",
    "  [1, 0, 0, -0.3],\n",
    "  [0, 0, 0, 1],  \n",
    "])"
   ]
  },
  {
   "cell_type": "code",
   "execution_count": 13,
   "id": "eafae578",
   "metadata": {},
   "outputs": [
    {
     "name": "stdout",
     "output_type": "stream",
     "text": [
      "[9.26862094394107, -18.673515435298647, -21.373805256062525, -82.73977303765433, -20.91781171719105, -8.771745449965852, 22.78588140057974]\n"
     ]
    }
   ],
   "source": [
    "try:\n",
    "    joint_pos_A = reachy.r_arm.inverse_kinematics(A)\n",
    "    joint_pos_B = reachy.r_arm.inverse_kinematics(B)\n",
    "    joint_pos_C = reachy.r_arm.inverse_kinematics(C)\n",
    "    joint_pos_D = reachy.r_arm.inverse_kinematics(D)\n",
    "    print(joint_pos_A)\n",
    "except AttributeError:\n",
    "    print('Reachy has no right arm!')"
   ]
  },
  {
   "cell_type": "code",
   "execution_count": 14,
   "id": "03037d6f",
   "metadata": {},
   "outputs": [],
   "source": [
    "reachy.turn_on('r_arm')"
   ]
  },
  {
   "cell_type": "code",
   "execution_count": null,
   "id": "da1d03e5",
   "metadata": {},
   "outputs": [],
   "source": [
    "reachy.turn_off_smoothly('r_arm')"
   ]
  },
  {
   "cell_type": "code",
   "execution_count": 15,
   "id": "39e4971e",
   "metadata": {},
   "outputs": [],
   "source": [
    "import time\n",
    "# put the joints in stiff mode\n",
    "try:\n",
    "    reachy.turn_on('r_arm')\n",
    "\n",
    "    # use the goto function\n",
    "    goto({joint: pos for joint,pos in zip(reachy.r_arm.joints.values(), joint_pos_A)}, duration=1.0)\n",
    "    time.sleep(0.5)\n",
    "    goto({joint: pos for joint,pos in zip(reachy.r_arm.joints.values(), joint_pos_B)}, duration=1.0)\n",
    "    time.sleep(0.5)\n",
    "    goto({joint: pos for joint,pos in zip(reachy.r_arm.joints.values(), joint_pos_C)}, duration=1.0)\n",
    "    time.sleep(0.5)\n",
    "    goto({joint: pos for joint,pos in zip(reachy.r_arm.joints.values(), joint_pos_D)}, duration=1.0)\n",
    "\n",
    "    # put the joints back to compliant mode\n",
    "    # use turn_off_smoothly to prevent the arm from falling hard\n",
    "    reachy.turn_off_smoothly('r_arm')\n",
    "    \n",
    "except AttributeError:\n",
    "    print('Reachy has no right arm!')"
   ]
  },
  {
   "cell_type": "code",
   "execution_count": 1,
   "id": "7c7ec0f7",
   "metadata": {},
   "outputs": [
    {
     "name": "stdout",
     "output_type": "stream",
     "text": [
      "[9.26862094394107, -18.673515435298647, -21.373805256062525, -82.73977303765433, -20.91781171719105, -8.771745449965852, 22.78588140057974]\n"
     ]
    }
   ],
   "source": [
    "import numpy as np\n",
    "\n",
    "from reachy_sdk import ReachySDK\n",
    "\n",
    "from reachy_sdk.trajectory import goto\n",
    "from reachy_sdk.trajectory.interpolation import InterpolationMode\n",
    "\n",
    "import time\n",
    "\n",
    "reachy = ReachySDK('localhost')\n",
    "\n",
    "A = np.array([\n",
    "  [0, 0, -1, 0.3],\n",
    "  [0, 1, 0, -0.4],  \n",
    "  [1, 0, 0, -0.3],\n",
    "  [0, 0, 0, 1],  \n",
    "])\n",
    "\n",
    "B = np.array([\n",
    "  [0, 0, -1, 0.3],\n",
    "  [0, 1, 0, -0.4],  \n",
    "  [1, 0, 0, 0.0],\n",
    "  [0, 0, 0, 1],  \n",
    "])\n",
    "\n",
    "C = np.array([\n",
    "  [0, 0, -1, 0.3],\n",
    "  [0, 1, 0, -0.1],  \n",
    "  [1, 0, 0, 0.0],\n",
    "  [0, 0, 0, 1],  \n",
    "])\n",
    "\n",
    "D = np.array([\n",
    "  [0, 0, -1, 0.3],\n",
    "  [0, 1, 0, -0.1],  \n",
    "  [1, 0, 0, -0.3],\n",
    "  [0, 0, 0, 1],  \n",
    "])\n",
    "\n",
    "try:\n",
    "    joint_pos_A = reachy.r_arm.inverse_kinematics(A)\n",
    "    joint_pos_B = reachy.r_arm.inverse_kinematics(B)\n",
    "    joint_pos_C = reachy.r_arm.inverse_kinematics(C)\n",
    "    joint_pos_D = reachy.r_arm.inverse_kinematics(D)\n",
    "    print(joint_pos_A)\n",
    "except AttributeError:\n",
    "    print('Reachy has no right arm!')\n",
    "# put the joints in stiff mode\n",
    "try:\n",
    "    reachy.turn_on('r_arm')\n",
    "\n",
    "    # use the goto function\n",
    "    goto({joint: pos for joint,pos in zip(reachy.r_arm.joints.values(), joint_pos_A)}, duration=1.0)\n",
    "    time.sleep(0.5)\n",
    "    goto({joint: pos for joint,pos in zip(reachy.r_arm.joints.values(), joint_pos_B)}, duration=1.0)\n",
    "    time.sleep(0.5)\n",
    "    goto({joint: pos for joint,pos in zip(reachy.r_arm.joints.values(), joint_pos_C)}, duration=1.0)\n",
    "    time.sleep(0.5)\n",
    "    goto({joint: pos for joint,pos in zip(reachy.r_arm.joints.values(), joint_pos_D)}, duration=1.0)\n",
    "\n",
    "    # put the joints back to compliant mode\n",
    "    # use turn_off_smoothly to prevent the arm from falling hard\n",
    "    reachy.turn_off_smoothly('r_arm')\n",
    "    \n",
    "except AttributeError:\n",
    "    print('Reachy has no right arm!')"
   ]
  },
  {
   "cell_type": "code",
   "execution_count": 30,
   "id": "1c57d405",
   "metadata": {},
   "outputs": [],
   "source": [
    "reachy.turn_off_smoothly('reachy')"
   ]
  },
  {
   "cell_type": "markdown",
   "id": "644df0cf",
   "metadata": {},
   "source": [
    "For the left arm:"
   ]
  },
  {
   "cell_type": "code",
   "execution_count": 16,
   "id": "c369cac4",
   "metadata": {},
   "outputs": [],
   "source": [
    "A = np.array([\n",
    "  [0, 0, -1, 0.3],\n",
    "  [0, 1, 0, 0.1],  \n",
    "  [1, 0, 0, -0.3],\n",
    "  [0, 0, 0, 1],  \n",
    "])\n",
    "\n",
    "B = np.array([\n",
    "  [0, 0, -1, 0.3],\n",
    "  [0, 1, 0, 0.1],  \n",
    "  [1, 0, 0, 0.0],\n",
    "  [0, 0, 0, 1],  \n",
    "])\n",
    "\n",
    "C = np.array([\n",
    "  [0, 0, -1, 0.3],\n",
    "  [0, 1, 0, 0.3],  \n",
    "  [1, 0, 0, 0.0],\n",
    "  [0, 0, 0, 1],  \n",
    "])\n",
    "\n",
    "D = np.array([\n",
    "  [0, 0, -1, 0.3],\n",
    "  [0, 1, 0, 0.3],  \n",
    "  [1, 0, 0, -0.3],\n",
    "  [0, 0, 0, 1],  \n",
    "])"
   ]
  },
  {
   "cell_type": "code",
   "execution_count": 17,
   "id": "9620fd8d",
   "metadata": {},
   "outputs": [],
   "source": [
    "try:\n",
    "    joint_pos_A = reachy.l_arm.inverse_kinematics(A)\n",
    "    joint_pos_B = reachy.l_arm.inverse_kinematics(B)\n",
    "    joint_pos_C = reachy.l_arm.inverse_kinematics(C)\n",
    "    joint_pos_D = reachy.l_arm.inverse_kinematics(D)\n",
    "except AttributeError:\n",
    "    print('Reachy has no left arm')"
   ]
  },
  {
   "cell_type": "code",
   "execution_count": 18,
   "id": "2689d403",
   "metadata": {},
   "outputs": [],
   "source": [
    "reachy.turn_on('l_arm')"
   ]
  },
  {
   "cell_type": "code",
   "execution_count": 7,
   "id": "b1e231d5",
   "metadata": {},
   "outputs": [],
   "source": [
    "reachy.turn_off_smoothly('reachy')"
   ]
  },
  {
   "cell_type": "code",
   "execution_count": 19,
   "id": "ebde3991",
   "metadata": {},
   "outputs": [],
   "source": [
    "import time\n",
    "# put the joints in stiff mode\n",
    "try:\n",
    "    reachy.turn_on('l_arm')\n",
    "\n",
    "    # use the goto function\n",
    "    goto({joint: pos for joint,pos in zip(reachy.l_arm.joints.values(), joint_pos_A)}, duration=3.0)\n",
    "    time.sleep(0.5)\n",
    "    goto({joint: pos for joint,pos in zip(reachy.l_arm.joints.values(), joint_pos_B)}, duration=3.0)\n",
    "    time.sleep(0.5)\n",
    "    goto({joint: pos for joint,pos in zip(reachy.l_arm.joints.values(), joint_pos_C)}, duration=3.0)\n",
    "    time.sleep(0.5)\n",
    "    goto({joint: pos for joint,pos in zip(reachy.l_arm.joints.values(), joint_pos_D)}, duration=3.0)\n",
    "\n",
    "    # put the joints back to compliant mode\n",
    "    # use turn_off_smoothly to prevent the arm from falling hard\n",
    "    reachy.turn_off_smoothly('l_arm')\n",
    "except AttributeError:\n",
    "    print('Reachy has no left arm!')"
   ]
  },
  {
   "cell_type": "code",
   "execution_count": 20,
   "id": "4f544ab2",
   "metadata": {},
   "outputs": [],
   "source": [
    "import numpy as np\n",
    "\n",
    "from reachy_sdk import ReachySDK\n",
    "\n",
    "from reachy_sdk.trajectory import goto\n",
    "from reachy_sdk.trajectory.interpolation import InterpolationMode\n",
    "reachy = ReachySDK('localhost')\n",
    "reachy\n",
    "reachy.turn_on('l_arm')"
   ]
  },
  {
   "cell_type": "code",
   "execution_count": 31,
   "id": "038d674d",
   "metadata": {},
   "outputs": [],
   "source": [
    "reachy.turn_off_smoothly('reachy')"
   ]
  },
  {
   "cell_type": "code",
   "execution_count": 33,
   "id": "a6ce3539",
   "metadata": {},
   "outputs": [],
   "source": [
    "import time\n",
    "# put the joints in stiff mode\n",
    "try:\n",
    "    reachy.turn_on('l_arm')\n",
    "\n",
    "    # use the goto function\n",
    "\n",
    "\n",
    "    right_angled_position = {\n",
    "        reachy.l_arm.l_shoulder_pitch: -30,\n",
    "        reachy.l_arm.l_shoulder_roll: -90,\n",
    "        reachy.l_arm.l_arm_yaw: 0,\n",
    "        reachy.l_arm.l_elbow_pitch: -90,\n",
    "        reachy.l_arm.l_forearm_yaw: 0,\n",
    "        reachy.l_arm.l_wrist_pitch: 0,\n",
    "        reachy.l_arm.l_wrist_roll: 0,\n",
    "    }\n",
    "    goto(goal_positions=right_angled_position, duration=10.0)\n",
    "    time.sleep(3)\n",
    "    reachy.turn_off_smoothly('l_arm')\n",
    "except AttributeError:\n",
    "    print('Reachy has no left arm!')"
   ]
  },
  {
   "cell_type": "code",
   "execution_count": 32,
   "id": "57ac05b0",
   "metadata": {},
   "outputs": [],
   "source": [
    "reachy.turn_on('l_arm')"
   ]
  },
  {
   "cell_type": "code",
   "execution_count": null,
   "id": "ae52dc1c",
   "metadata": {},
   "outputs": [],
   "source": [
    "reachy.turn_off_smoothly('l_arm')"
   ]
  },
  {
   "cell_type": "markdown",
   "id": "4471c313",
   "metadata": {},
   "source": [
    "## Checking the force sensors"
   ]
  },
  {
   "cell_type": "markdown",
   "id": "9dc806a6",
   "metadata": {},
   "source": [
    "You should see one force sensor per arm, zith the *.force_sensors* object."
   ]
  },
  {
   "cell_type": "code",
   "execution_count": 22,
   "id": "fdc52045",
   "metadata": {},
   "outputs": [
    {
     "data": {
      "text/plain": [
       "<Holder\n",
       "\t<ForceSensor name=\"l_force_gripper\" force=\"-25.09\">\n",
       "\t<ForceSensor name=\"r_force_gripper\" force=\"-2.17\">\n",
       ">"
      ]
     },
     "execution_count": 22,
     "metadata": {},
     "output_type": "execute_result"
    }
   ],
   "source": [
    "reachy.force_sensors"
   ]
  },
  {
   "cell_type": "markdown",
   "id": "003213c1",
   "metadata": {},
   "source": [
    "The force value should be positive when applying a force towards the exterior of the gripper (e.g. when you try to open the gripper which is in stiff mode). On the contrary, you should get a negative force value when applying a force towards the interior of the gripper.  "
   ]
  },
  {
   "cell_type": "markdown",
   "id": "14eeab42",
   "metadata": {},
   "source": [
    "First, place the grippers in stiff mode, it will be easier to check the force values."
   ]
  },
  {
   "cell_type": "code",
   "execution_count": 5,
   "id": "975fd07e",
   "metadata": {},
   "outputs": [],
   "source": [
    "try:\n",
    "    reachy.l_arm.l_gripper.compliant = False\n",
    "except AttributeError:\n",
    "    print('Reachy has no left arm.')"
   ]
  },
  {
   "cell_type": "code",
   "execution_count": 23,
   "id": "60c472c6",
   "metadata": {},
   "outputs": [],
   "source": [
    "try:\n",
    "    reachy.r_arm.r_gripper.compliant = False\n",
    "except AttributeError:\n",
    "    print('Reachy has no right arm.')"
   ]
  },
  {
   "cell_type": "markdown",
   "id": "e41326bc",
   "metadata": {},
   "source": [
    "Now, try to close each gripper and check that when you doing this, the force value is negative."
   ]
  },
  {
   "cell_type": "code",
   "execution_count": 29,
   "id": "ced090d3",
   "metadata": {},
   "outputs": [
    {
     "data": {
      "text/plain": [
       "<ForceSensor name=\"r_force_gripper\" force=\"117.66\">"
      ]
     },
     "execution_count": 29,
     "metadata": {},
     "output_type": "execute_result"
    }
   ],
   "source": [
    "reachy.force_sensors.r_force_gripper"
   ]
  },
  {
   "cell_type": "code",
   "execution_count": 13,
   "id": "8e777590",
   "metadata": {},
   "outputs": [
    {
     "data": {
      "text/plain": [
       "<ForceSensor name=\"l_force_gripper\" force=\"-133.14\">"
      ]
     },
     "execution_count": 13,
     "metadata": {},
     "output_type": "execute_result"
    }
   ],
   "source": [
    "reachy.force_sensors.l_force_gripper"
   ]
  },
  {
   "cell_type": "markdown",
   "id": "69e89806",
   "metadata": {},
   "source": [
    "Next, try to open each gripper and check that when you doing this, the force value is positive."
   ]
  },
  {
   "cell_type": "code",
   "execution_count": 14,
   "id": "6f5da24c",
   "metadata": {},
   "outputs": [
    {
     "data": {
      "text/plain": [
       "<ForceSensor name=\"r_force_gripper\" force=\"95.95\">"
      ]
     },
     "execution_count": 14,
     "metadata": {},
     "output_type": "execute_result"
    }
   ],
   "source": [
    "reachy.force_sensors.r_force_gripper"
   ]
  },
  {
   "cell_type": "code",
   "execution_count": 15,
   "id": "017f5372",
   "metadata": {},
   "outputs": [
    {
     "data": {
      "text/plain": [
       "<ForceSensor name=\"l_force_gripper\" force=\"69.74\">"
      ]
     },
     "execution_count": 15,
     "metadata": {},
     "output_type": "execute_result"
    }
   ],
   "source": [
    "reachy.force_sensors.l_force_gripper"
   ]
  },
  {
   "cell_type": "markdown",
   "id": "84b076e5",
   "metadata": {},
   "source": [
    "Finally, put the grippers back to compliant mode."
   ]
  },
  {
   "cell_type": "code",
   "execution_count": 21,
   "id": "838b4599",
   "metadata": {},
   "outputs": [],
   "source": [
    "try:\n",
    "    reachy.l_arm.l_gripper.compliant = True\n",
    "except AttributeError:\n",
    "    pass"
   ]
  },
  {
   "cell_type": "code",
   "execution_count": 22,
   "id": "88831aed",
   "metadata": {},
   "outputs": [],
   "source": [
    "try:\n",
    "    reachy.r_arm.r_gripper.compliant = True\n",
    "except AttributeError:\n",
    "    pass"
   ]
  },
  {
   "cell_type": "code",
   "execution_count": null,
   "id": "9de91d5f",
   "metadata": {},
   "outputs": [],
   "source": []
  }
 ],
 "metadata": {
  "kernelspec": {
   "display_name": "Python 3 (ipykernel)",
   "language": "python",
   "name": "python3"
  },
  "language_info": {
   "codemirror_mode": {
    "name": "ipython",
    "version": 3
   },
   "file_extension": ".py",
   "mimetype": "text/x-python",
   "name": "python",
   "nbconvert_exporter": "python",
   "pygments_lexer": "ipython3",
   "version": "3.8.10 (default, Jun  2 2021, 10:49:15) \n[GCC 9.4.0]"
  },
  "vscode": {
   "interpreter": {
    "hash": "916dbcbb3f70747c44a77c7bcd40155683ae19c65e1c03b4aa3499c5328201f1"
   }
  }
 },
 "nbformat": 4,
 "nbformat_minor": 5
}
